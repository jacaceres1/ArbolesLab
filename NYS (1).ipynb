{
 "cells": [
  {
   "cell_type": "code",
   "execution_count": null,
   "id": "e11a05a3",
   "metadata": {},
   "outputs": [],
   "source": [
    "#Stanraziacion\n",
    "from sklearn.preprocessing import StandardScaler\n",
    "sc = StandardScaler()\n",
    "#scaling the training set \n",
    "X_train_stand = sc.fit_transform(X_train)\n",
    "x_test_stand = sc "
   ]
  },
  {
   "cell_type": "code",
   "execution_count": null,
   "id": "7d473efd",
   "metadata": {},
   "outputs": [],
   "source": [
    "#Normalizacion\n",
    "import numpy as np\n",
    "from sklearn.preprocessing import Normalizer\n",
    "#Creamos el normalizador\n",
    "normalizer = Normalizer(norm=\"12\")\n",
    "#transforar los datos\n",
    "X_Train_normalizer = normalizer.transform(X_train)\n",
    "X_test_normalizer = normalizer.transform(X_test)"
   ]
  },
  {
   "cell_type": "code",
   "execution_count": null,
   "id": "a497334c",
   "metadata": {},
   "outputs": [],
   "source": [
    "accidente cerebrovascular  stroke"
   ]
  },
  {
   "cell_type": "code",
   "execution_count": null,
   "id": "f1d0dece",
   "metadata": {},
   "outputs": [],
   "source": [
    "# para el control de valores textuales a numericos\n",
    "dataTrain.replace(to_replace=\"Urban\", value=1, inplace=True)\n",
    "dataTrain.replace(to_replace=\"Rural\", value=0, inplace=True)\n",
    "\n",
    "dataTrain.replace(to_replace=\"Yes\", value=1, inplace=True)\n",
    "dataTrain.replace(to_replace=\"No\", value=0, inplace=True)"
   ]
  },
  {
   "cell_type": "code",
   "execution_count": null,
   "id": "d01edc73",
   "metadata": {},
   "outputs": [],
   "source": [
    "#Importar librerias\n",
    "from sklearn.svm import SVC\n",
    "from sklearn import metrics\n",
    "from sklearn.model_selection import train_test_split\n",
    "from sklearn import svm\n",
    "from sklearn import metrics"
   ]
  },
  {
   "cell_type": "code",
   "execution_count": null,
   "id": "a082ae90",
   "metadata": {},
   "outputs": [],
   "source": [
    "#Separar variables de train\n",
    "X_train, X_test, y_train, y_test = train_test_split(df.data, df.target, test_size=0.3, random_state=109)"
   ]
  },
  {
   "cell_type": "code",
   "execution_count": null,
   "id": "0bc247c1",
   "metadata": {},
   "outputs": [],
   "source": [
    "from sklearn.svm import SVC\n",
    "\n",
    "svClassifier = SVC()\n",
    "svClassifier.fit(xTrain, yTrain)\n",
    "svClassifier.score(xTrain, yTrain)"
   ]
  },
  {
   "cell_type": "code",
   "execution_count": null,
   "id": "dfdd8294",
   "metadata": {},
   "outputs": [],
   "source": [
    "y_pred = svm_sigmoid.predict(X_test)\n",
    "accuracy = accuracy_score(y_test, y_pred)\n",
    "precision = precision_score(y_test, y_pred, average='weighted')\n",
    "recall = recall_score(y_test, y_pred, average='weighted')\n",
    "f1 = f1_score(y_test, y_pred, average='weighted')\n",
    "print('Accuracy (Sigmoid Kernel): ', \"%.2f\" % (accuracy*100))\n",
    "print('F1 (Sigmoid Kernel): ', \"%.2f\" % (f1*100))\n",
    "print('Precision (Sigmoid Kernel): ', \"%.2f\" % (precision*100))\n",
    "print('Recall (Sigmoid Kernel): ', \"%.2f\" % (recall*100))"
   ]
  },
  {
   "cell_type": "markdown",
   "id": "6afd844b",
   "metadata": {},
   "source": [
    "# Matriz de confusion"
   ]
  },
  {
   "cell_type": "code",
   "execution_count": null,
   "id": "fb0aaf39",
   "metadata": {},
   "outputs": [],
   "source": [
    "import pandas as pd\n",
    "import seaborn as sn\n",
    "import matplotlib.pyplot as plt"
   ]
  },
  {
   "cell_type": "code",
   "execution_count": null,
   "id": "d725cb2b",
   "metadata": {},
   "outputs": [],
   "source": [
    "confusion_matrix = pd.crosstab(y_test, y_pred, rownames=['Actual'], colnames=['Predicted'])\n",
    "sn.heatmap(confusion_matrix, annot=True)\n",
    "plt.show()"
   ]
  },
  {
   "cell_type": "code",
   "execution_count": null,
   "id": "ce539cd5",
   "metadata": {},
   "outputs": [],
   "source": []
  },
  {
   "cell_type": "markdown",
   "id": "4af0d34b",
   "metadata": {},
   "source": [
    "# coss validation\n"
   ]
  },
  {
   "cell_type": "code",
   "execution_count": null,
   "id": "a5136e36",
   "metadata": {},
   "outputs": [],
   "source": [
    "results = cross_validate(estimator=svm_sigmoid, X=X_train, y=y_train, cv=8, scoring=scoring)\n",
    "\n",
    "print('Accuracy (Sigmoid Kernel): ', \"%.2f\" % (np.mean(results['test_accuracy'])*100))\n",
    "print('F1 (Sigmoid Kernel): ', \"%.2f\" % (np.mean(results['test_f1_score'])*100))\n",
    "print('Precision (Sigmoid Kernel): ', \"%.2f\" % (np.mean(results['test_precision'])*100))\n",
    "print('Recall (Sigmoid Kernel): ', \"%.2f\" % (np.mean(results['test_recall'])*100))"
   ]
  },
  {
   "cell_type": "markdown",
   "id": "a7990d78",
   "metadata": {},
   "source": [
    "# read json"
   ]
  },
  {
   "cell_type": "code",
   "execution_count": null,
   "id": "1d84933a",
   "metadata": {},
   "outputs": [],
   "source": [
    "import pandas as pd\n",
    "iris_data = pd.read_json(\"https://raw.githubusercontent.com/domoritz/maps/master/data/iris.json\")\n",
    "iris_data.head()"
   ]
  }
 ],
 "metadata": {
  "kernelspec": {
   "display_name": "Python 3 (ipykernel)",
   "language": "python",
   "name": "python3"
  },
  "language_info": {
   "codemirror_mode": {
    "name": "ipython",
    "version": 3
   },
   "file_extension": ".py",
   "mimetype": "text/x-python",
   "name": "python",
   "nbconvert_exporter": "python",
   "pygments_lexer": "ipython3",
   "version": "3.9.12"
  }
 },
 "nbformat": 4,
 "nbformat_minor": 5
}
